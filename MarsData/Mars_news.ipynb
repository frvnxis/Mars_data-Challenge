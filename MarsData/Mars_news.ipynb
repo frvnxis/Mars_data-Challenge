{
 "cells": [
  {
   "cell_type": "code",
   "execution_count": 6,
   "metadata": {},
   "outputs": [],
   "source": [
    "from bs4 import BeautifulSoup\n",
    "from splinter import Browser\n",
    "from webdriver_manager.chrome import ChromeDriverManager\n",
    "import pandas as pd"
   ]
  },
  {
   "cell_type": "code",
   "execution_count": 7,
   "metadata": {},
   "outputs": [],
   "source": [
    "executable_path = {'executable_path': ChromeDriverManager().install()}\n",
    "browser = Browser('chrome', **executable_path, headless=False)\n",
    "browser.visit('https://redplanetscience.com/')\n",
    "html = browser.html\n",
    "soup = BeautifulSoup(html, 'html.parser')"
   ]
  },
  {
   "cell_type": "code",
   "execution_count": 3,
   "metadata": {},
   "outputs": [
    {
     "data": {
      "text/plain": [
       "[{'title': 'NASA Establishes Board to Initially Review Mars Sample Return Plans',\n",
       "  'summary': 'The board will assist with analysis of current plans and goals for one of the most difficult missions humanity has ever undertaken.'},\n",
       " {'title': 'NASA Invites Students to Name Mars 2020 Rover',\n",
       "  'summary': \"Through Nov. 1, K-12 students in the U.S. are encouraged to enter an essay contest to name NASA's next Mars rover.\"},\n",
       " {'title': 'NASA to Broadcast Mars 2020 Perseverance Launch, Prelaunch Activities',\n",
       "  'summary': 'Starting July 27, news activities will cover everything from mission engineering and science to returning samples from Mars to, of course, the launch itself.'},\n",
       " {'title': \"NASA's Perseverance Rover Goes Through Trials by Fire, Ice, Light and Sound\",\n",
       "  'summary': \"The agency's new Mars rover is put through a series of tests in vacuum chambers, acoustic chambers and more to get ready for the Red Planet.\"},\n",
       " {'title': 'Mars Scientists Investigate Ancient Life in Australia',\n",
       "  'summary': \"Teams with NASA's Mars 2020 and ESA's ExoMars practiced hunting for fossilized microbial life in the Australian Outback in preparation for their Red Planet missions. \"},\n",
       " {'title': \"All About the Laser (and Microphone) Atop Mars 2020, NASA's Next Rover\",\n",
       "  'summary': 'SuperCam is a rock-vaporizing instrument that will help scientists hunt for Mars fossils.'},\n",
       " {'title': 'NASA Mars Mission Connects With Bosnian and Herzegovinian Town',\n",
       "  'summary': 'A letter from NASA was presented to the mayor of Jezero, Bosnia-Herzegovina, honoring the connection between the town and Jezero Crater, the Mars 2020 rover landing site.'},\n",
       " {'title': 'NASA Invites Public to Share Excitement of Mars 2020 Perseverance Rover Launch',\n",
       "  'summary': 'There are lots of ways to participate in the historic event, which is targeted for July 30.'},\n",
       " {'title': \"NASA's Perseverance Mars Rover Gets Its Wheels and Air Brakes\",\n",
       "  'summary': 'After the rover was shipped from JPL to Kennedy Space Center, the team is getting closer to finalizing the spacecraft for launch later this summer.'},\n",
       " {'title': \"Meet the People Behind NASA's Perseverance Rover\",\n",
       "  'summary': \"These are the scientists and engineers who built NASA's next Mars rover and who will guide it to a safe landing in Jezero Crater. \"},\n",
       " {'title': \"Alabama High School Student Names NASA's Mars Helicopter\",\n",
       "  'summary': \"Vaneeza Rupani's essay was chosen as the name for the small spacecraft, which will mark NASA's first attempt at powered flight on another planet.\"},\n",
       " {'title': \"InSight's 'Mole' Team Peers into the Pit\",\n",
       "  'summary': 'Efforts to save the heat probe continue.'},\n",
       " {'title': 'Mars 2020 Unwrapped and Ready for More Testing',\n",
       "  'summary': \"In time-lapse video, bunny-suited engineers remove the inner layer of protective foil on NASA's Mars 2020 rover after it was relocated for testing.\"},\n",
       " {'title': 'Space History Is Made in This NASA Robot Factory',\n",
       "  'summary': \"From rockets to rovers, JPL's Spacecraft Assembly Facility has been at the center of robotic spaceflight. Here's a closer look at what makes it so special.\"},\n",
       " {'title': \"NASA's Mars 2020 Will Hunt for Microscopic Fossils\",\n",
       "  'summary': \"A new paper identifies a ring of minerals at the rover's landing site that are ideal for fossilizing microbial life.\"}]"
      ]
     },
     "execution_count": 3,
     "metadata": {},
     "output_type": "execute_result"
    }
   ],
   "source": [
    "# append to a singular dictionary.\n",
    "title_and_summary = []\n",
    "\n",
    "# define how many loops we go through\n",
    "titles = soup.find_all(\"div\", class_=\"col-md-8\")\n",
    "\n",
    "for title in titles:\n",
    "    temp_dict = {}\n",
    "    temp_dict[\"title\"] = title.find(\"div\", class_=\"content_title\").text\n",
    "    temp_dict[\"summary\"] = title.find(\"div\", class_=\"article_teaser_body\").text\n",
    "    title_and_summary.append(temp_dict)\n",
    "\n",
    "# dictionaries\n",
    "title_and_summary"
   ]
  },
  {
   "cell_type": "code",
   "execution_count": 4,
   "metadata": {},
   "outputs": [
    {
     "data": {
      "text/html": [
       "<div>\n",
       "<style scoped>\n",
       "    .dataframe tbody tr th:only-of-type {\n",
       "        vertical-align: middle;\n",
       "    }\n",
       "\n",
       "    .dataframe tbody tr th {\n",
       "        vertical-align: top;\n",
       "    }\n",
       "\n",
       "    .dataframe thead th {\n",
       "        text-align: right;\n",
       "    }\n",
       "</style>\n",
       "<table border=\"1\" class=\"dataframe\">\n",
       "  <thead>\n",
       "    <tr style=\"text-align: right;\">\n",
       "      <th></th>\n",
       "      <th>title</th>\n",
       "      <th>summary</th>\n",
       "    </tr>\n",
       "  </thead>\n",
       "  <tbody>\n",
       "    <tr>\n",
       "      <th>0</th>\n",
       "      <td>NASA Establishes Board to Initially Review Mar...</td>\n",
       "      <td>The board will assist with analysis of current...</td>\n",
       "    </tr>\n",
       "    <tr>\n",
       "      <th>1</th>\n",
       "      <td>NASA Invites Students to Name Mars 2020 Rover</td>\n",
       "      <td>Through Nov. 1, K-12 students in the U.S. are ...</td>\n",
       "    </tr>\n",
       "    <tr>\n",
       "      <th>2</th>\n",
       "      <td>NASA to Broadcast Mars 2020 Perseverance Launc...</td>\n",
       "      <td>Starting July 27, news activities will cover e...</td>\n",
       "    </tr>\n",
       "    <tr>\n",
       "      <th>3</th>\n",
       "      <td>NASA's Perseverance Rover Goes Through Trials ...</td>\n",
       "      <td>The agency's new Mars rover is put through a s...</td>\n",
       "    </tr>\n",
       "    <tr>\n",
       "      <th>4</th>\n",
       "      <td>Mars Scientists Investigate Ancient Life in Au...</td>\n",
       "      <td>Teams with NASA's Mars 2020 and ESA's ExoMars ...</td>\n",
       "    </tr>\n",
       "    <tr>\n",
       "      <th>5</th>\n",
       "      <td>All About the Laser (and Microphone) Atop Mars...</td>\n",
       "      <td>SuperCam is a rock-vaporizing instrument that ...</td>\n",
       "    </tr>\n",
       "    <tr>\n",
       "      <th>6</th>\n",
       "      <td>NASA Mars Mission Connects With Bosnian and He...</td>\n",
       "      <td>A letter from NASA was presented to the mayor ...</td>\n",
       "    </tr>\n",
       "    <tr>\n",
       "      <th>7</th>\n",
       "      <td>NASA Invites Public to Share Excitement of Mar...</td>\n",
       "      <td>There are lots of ways to participate in the h...</td>\n",
       "    </tr>\n",
       "    <tr>\n",
       "      <th>8</th>\n",
       "      <td>NASA's Perseverance Mars Rover Gets Its Wheels...</td>\n",
       "      <td>After the rover was shipped from JPL to Kenned...</td>\n",
       "    </tr>\n",
       "    <tr>\n",
       "      <th>9</th>\n",
       "      <td>Meet the People Behind NASA's Perseverance Rover</td>\n",
       "      <td>These are the scientists and engineers who bui...</td>\n",
       "    </tr>\n",
       "    <tr>\n",
       "      <th>10</th>\n",
       "      <td>Alabama High School Student Names NASA's Mars ...</td>\n",
       "      <td>Vaneeza Rupani's essay was chosen as the name ...</td>\n",
       "    </tr>\n",
       "    <tr>\n",
       "      <th>11</th>\n",
       "      <td>InSight's 'Mole' Team Peers into the Pit</td>\n",
       "      <td>Efforts to save the heat probe continue.</td>\n",
       "    </tr>\n",
       "    <tr>\n",
       "      <th>12</th>\n",
       "      <td>Mars 2020 Unwrapped and Ready for More Testing</td>\n",
       "      <td>In time-lapse video, bunny-suited engineers re...</td>\n",
       "    </tr>\n",
       "    <tr>\n",
       "      <th>13</th>\n",
       "      <td>Space History Is Made in This NASA Robot Factory</td>\n",
       "      <td>From rockets to rovers, JPL's Spacecraft Assem...</td>\n",
       "    </tr>\n",
       "    <tr>\n",
       "      <th>14</th>\n",
       "      <td>NASA's Mars 2020 Will Hunt for Microscopic Fos...</td>\n",
       "      <td>A new paper identifies a ring of minerals at t...</td>\n",
       "    </tr>\n",
       "  </tbody>\n",
       "</table>\n",
       "</div>"
      ],
      "text/plain": [
       "                                                title  \\\n",
       "0   NASA Establishes Board to Initially Review Mar...   \n",
       "1       NASA Invites Students to Name Mars 2020 Rover   \n",
       "2   NASA to Broadcast Mars 2020 Perseverance Launc...   \n",
       "3   NASA's Perseverance Rover Goes Through Trials ...   \n",
       "4   Mars Scientists Investigate Ancient Life in Au...   \n",
       "5   All About the Laser (and Microphone) Atop Mars...   \n",
       "6   NASA Mars Mission Connects With Bosnian and He...   \n",
       "7   NASA Invites Public to Share Excitement of Mar...   \n",
       "8   NASA's Perseverance Mars Rover Gets Its Wheels...   \n",
       "9    Meet the People Behind NASA's Perseverance Rover   \n",
       "10  Alabama High School Student Names NASA's Mars ...   \n",
       "11           InSight's 'Mole' Team Peers into the Pit   \n",
       "12     Mars 2020 Unwrapped and Ready for More Testing   \n",
       "13   Space History Is Made in This NASA Robot Factory   \n",
       "14  NASA's Mars 2020 Will Hunt for Microscopic Fos...   \n",
       "\n",
       "                                              summary  \n",
       "0   The board will assist with analysis of current...  \n",
       "1   Through Nov. 1, K-12 students in the U.S. are ...  \n",
       "2   Starting July 27, news activities will cover e...  \n",
       "3   The agency's new Mars rover is put through a s...  \n",
       "4   Teams with NASA's Mars 2020 and ESA's ExoMars ...  \n",
       "5   SuperCam is a rock-vaporizing instrument that ...  \n",
       "6   A letter from NASA was presented to the mayor ...  \n",
       "7   There are lots of ways to participate in the h...  \n",
       "8   After the rover was shipped from JPL to Kenned...  \n",
       "9   These are the scientists and engineers who bui...  \n",
       "10  Vaneeza Rupani's essay was chosen as the name ...  \n",
       "11           Efforts to save the heat probe continue.  \n",
       "12  In time-lapse video, bunny-suited engineers re...  \n",
       "13  From rockets to rovers, JPL's Spacecraft Assem...  \n",
       "14  A new paper identifies a ring of minerals at t...  "
      ]
     },
     "execution_count": 4,
     "metadata": {},
     "output_type": "execute_result"
    }
   ],
   "source": [
    "# convert to DataFrame\n",
    "title_and_summary_df = pd.DataFrame(title_and_summary)\n",
    "title_and_summary_df"
   ]
  },
  {
   "cell_type": "code",
   "execution_count": 5,
   "metadata": {},
   "outputs": [
    {
     "data": {
      "text/plain": [
       "'{\"title\":{\"0\":\"NASA Establishes Board to Initially Review Mars Sample Return Plans\",\"1\":\"NASA Invites Students to Name Mars 2020 Rover\",\"2\":\"NASA to Broadcast Mars 2020 Perseverance Launch, Prelaunch Activities\",\"3\":\"NASA\\'s Perseverance Rover Goes Through Trials by Fire, Ice, Light and Sound\",\"4\":\"Mars Scientists Investigate Ancient Life in Australia\",\"5\":\"All About the Laser (and Microphone) Atop Mars 2020, NASA\\'s Next Rover\",\"6\":\"NASA Mars Mission Connects With Bosnian and Herzegovinian Town\",\"7\":\"NASA Invites Public to Share Excitement of Mars 2020 Perseverance Rover Launch\",\"8\":\"NASA\\'s Perseverance Mars Rover Gets Its Wheels and Air Brakes\",\"9\":\"Meet the People Behind NASA\\'s Perseverance Rover\",\"10\":\"Alabama High School Student Names NASA\\'s Mars Helicopter\",\"11\":\"InSight\\'s \\'Mole\\' Team Peers into the Pit\",\"12\":\"Mars 2020 Unwrapped and Ready for More Testing\",\"13\":\"Space History Is Made in This NASA Robot Factory\",\"14\":\"NASA\\'s Mars 2020 Will Hunt for Microscopic Fossils\"},\"summary\":{\"0\":\"The board will assist with analysis of current plans and goals for one of the most difficult missions humanity has ever undertaken.\",\"1\":\"Through Nov. 1, K-12 students in the U.S. are encouraged to enter an essay contest to name NASA\\'s next Mars rover.\",\"2\":\"Starting July 27, news activities will cover everything from mission engineering and science to returning samples from Mars to, of course, the launch itself.\",\"3\":\"The agency\\'s new Mars rover is put through a series of tests in vacuum chambers, acoustic chambers and more to get ready for the Red Planet.\",\"4\":\"Teams with NASA\\'s Mars 2020 and ESA\\'s ExoMars practiced hunting for fossilized microbial life in the Australian Outback in preparation for their Red Planet missions. \",\"5\":\"SuperCam is a rock-vaporizing instrument that will help scientists hunt for Mars fossils.\",\"6\":\"A letter from NASA was presented to the mayor of Jezero, Bosnia-Herzegovina, honoring the connection between the town and Jezero Crater, the Mars 2020 rover landing site.\",\"7\":\"There are lots of ways to participate in the historic event, which is targeted for July 30.\",\"8\":\"After the rover was shipped from JPL to Kennedy Space Center, the team is getting closer to finalizing the spacecraft for launch later this summer.\",\"9\":\"These are the scientists and engineers who built NASA\\'s next Mars rover and who will guide it to a safe landing in Jezero Crater. \",\"10\":\"Vaneeza Rupani\\'s essay was chosen as the name for the small spacecraft, which will mark NASA\\'s first attempt at powered flight on another planet.\",\"11\":\"Efforts to save the heat probe continue.\",\"12\":\"In time-lapse video, bunny-suited engineers remove the inner layer of protective foil on NASA\\'s Mars 2020 rover after it was relocated for testing.\",\"13\":\"From rockets to rovers, JPL\\'s Spacecraft Assembly Facility has been at the center of robotic spaceflight. Here\\'s a closer look at what makes it so special.\",\"14\":\"A new paper identifies a ring of minerals at the rover\\'s landing site that are ideal for fossilizing microbial life.\"}}'"
      ]
     },
     "execution_count": 5,
     "metadata": {},
     "output_type": "execute_result"
    }
   ],
   "source": [
    "# convert it to a JSON.\n",
    "title_and_summary_json = title_and_summary_df.to_json()\n",
    "title_and_summary_json"
   ]
  }
 ],
 "metadata": {
  "kernelspec": {
   "display_name": "Python 3 (ipykernel)",
   "language": "python",
   "name": "python3"
  },
  "language_info": {
   "codemirror_mode": {
    "name": "ipython",
    "version": 3
   },
   "file_extension": ".py",
   "mimetype": "text/x-python",
   "name": "python",
   "nbconvert_exporter": "python",
   "pygments_lexer": "ipython3",
   "version": "3.9.13"
  },
  "vscode": {
   "interpreter": {
    "hash": "90e68e2d215918e27054de83af9e76c00ba81faef2a1fcd4e4ecb816270b0b60"
   }
  }
 },
 "nbformat": 4,
 "nbformat_minor": 2
}
