{
 "cells": [
  {
   "cell_type": "code",
   "execution_count": 1,
   "metadata": {},
   "outputs": [],
   "source": [
    "from bs4 import BeautifulSoup\n",
    "from splinter import Browser\n",
    "from webdriver_manager.chrome import ChromeDriverManager\n",
    "import matplotlib.pyplot as plt\n",
    "import pandas as pd"
   ]
  },
  {
   "cell_type": "code",
   "execution_count": 5,
   "metadata": {},
   "outputs": [],
   "source": [
    "link = \"https://data-class-mars-challenge.s3.amazonaws.com/Mars/index.html\"\n",
    "\n",
    "executable_path = {'executable_path': ChromeDriverManager().install()}\n",
    "browser = Browser('chrome', **executable_path, headless=False)\n",
    "browser.visit(link)\n",
    "html = browser.html\n",
    "soup = BeautifulSoup(html, 'html.parser')"
   ]
  },
  {
   "cell_type": "code",
   "execution_count": 6,
   "metadata": {},
   "outputs": [],
   "source": [
    "rows = soup.find_all(\"td\", class_=\"data-row\")\n",
    "temp_data_lst = []\n",
    "\n",
    "for row in rows:\n",
    "    temp_dict = {}\n",
    "    temp_dict[\"id\"] = int(row.find(\"td\").text)\n",
    "    temp_dict[\"terrestrial_date\"] = dt.datetime.strptime(row.find_next(\"td\").find_next(\"td\").text,\"%Y-%m-%d\")\n",
    "    temp_dict[\"sol\"] = int(row.find_next(\"td\").find_next(\"td\").find_next(\"td\").text)\n",
    "    temp_dict[\"ls\"] = int(row.find_next(\"td\").find_next(\"td\").find_next(\"td\").find_next(\"td\").text)\n",
    "    temp_dict[\"month\"] = int(row.find_next(\"td\").find_next(\"td\").find_next(\"td\").find_next(\"td\").find_next(\"td\").text)\n",
    "    temp_dict[\"min_temp\"] = float(row.find_next(\"td\").find_next(\"td\").find_next(\"td\").find_next(\"td\").find_next(\"td\").find_next(\"td\").text)\n",
    "    temp_dict[\"pressure\"] = float(row.find_next(\"td\").find_next(\"td\").find_next(\"td\").find_next(\"td\").find_next(\"td\").find_next(\"td\").find_next(\"td\").text)\n",
    "    temp_data_lst.append(temp_dict)"
   ]
  },
  {
   "cell_type": "code",
   "execution_count": 7,
   "metadata": {},
   "outputs": [
    {
     "data": {
      "text/html": [
       "<div>\n",
       "<style scoped>\n",
       "    .dataframe tbody tr th:only-of-type {\n",
       "        vertical-align: middle;\n",
       "    }\n",
       "\n",
       "    .dataframe tbody tr th {\n",
       "        vertical-align: top;\n",
       "    }\n",
       "\n",
       "    .dataframe thead th {\n",
       "        text-align: right;\n",
       "    }\n",
       "</style>\n",
       "<table border=\"1\" class=\"dataframe\">\n",
       "  <thead>\n",
       "    <tr style=\"text-align: right;\">\n",
       "      <th></th>\n",
       "    </tr>\n",
       "  </thead>\n",
       "  <tbody>\n",
       "  </tbody>\n",
       "</table>\n",
       "</div>"
      ],
      "text/plain": [
       "Empty DataFrame\n",
       "Columns: []\n",
       "Index: []"
      ]
     },
     "execution_count": 7,
     "metadata": {},
     "output_type": "execute_result"
    }
   ],
   "source": [
    "mars_temp_df = pd.DataFrame(temp_data_lst)\n",
    "mars_temp_df"
   ]
  },
  {
   "cell_type": "code",
   "execution_count": 13,
   "metadata": {},
   "outputs": [],
   "source": [
    "mars_temp_df.describe()"
   ]
  },
  {
   "cell_type": "code",
   "execution_count": 14,
   "metadata": {},
   "outputs": [],
   "source": [
    "mnth = mars_temp_df[\"month\"].max()\n",
    "print(f\"There are {mnth} month on Mars.\")\n",
    "# I'm assuming 'ls' is the martian date\n",
    "days_on_mars = mars_temp_df[\"ls\"].count()\n",
    "print(f\"A total of {days_on_mars} Martian days have been collected.\")"
   ]
  },
  {
   "cell_type": "code",
   "execution_count": 15,
   "metadata": {},
   "outputs": [],
   "source": [
    "temp_by_month = mars_temp_df[[\"month\",\"min_temp\"]]\n",
    "temp_by_month = temp_by_month['min_temp'].groupby(mars_temp_df[\"month\"]).mean()\n",
    "temp_by_month_df = pd.DataFrame(temp_by_month)\n",
    "temp_by_month_df\n",
    "\n",
    "plt.bar([1,2,3,4,5,6,7,8,9,10,11,12], temp_by_month_df[\"min_temp\"])\n",
    "plt.title(\"Mars Average Temperature by Months\")\n",
    "plt.xlabel(\"Martian Months\")"
   ]
  },
  {
   "cell_type": "code",
   "execution_count": null,
   "metadata": {},
   "outputs": [],
   "source": [
    "print(\"The third Martian month is the coldest.\")\n",
    "print(\"The eigth Martian month is the warmest.\")"
   ]
  },
  {
   "cell_type": "code",
   "execution_count": null,
   "metadata": {},
   "outputs": [],
   "source": [
    "atmo_prssr = mars_temp_df[[\"month\",\"pressure\"]]\n",
    "atmo_prssr_mnth_avg = atmo_prssr[\"pressure\"].groupby(atmo_prssr[\"month\"]).mean()\n",
    "atmo_prssr_mnth_avg_df = pd.DataFrame(atmo_prssr_mnth_avg)\n",
    "atmo_prssr_mnth_avg_df\n",
    "\n",
    "plt.bar([1,2,3,4,5,6,7,8,9,10,11,12], atmo_prssr_mnth_avg_df[\"pressure\"])"
   ]
  },
  {
   "cell_type": "code",
   "execution_count": null,
   "metadata": {},
   "outputs": [],
   "source": [
    "print(\"The sixth month has the lowest atmospheric pressure.\")\n",
    "print(\"The ninth month has the highest atmospheric pressure.\")"
   ]
  },
  {
   "cell_type": "code",
   "execution_count": null,
   "metadata": {},
   "outputs": [],
   "source": [
    "# solution found to get one earth year source:\n",
    "# https://stackoverflow.com/questions/29370057/select-dataframe-rows-between-two-dates\n",
    "\n",
    "combined = mars_temp_df[[\"terrestrial_date\",\"month\",\"min_temp\"]]\n",
    "\n",
    "# define a date period for the martian days\n",
    "# which is the 12th month of the 359th martian day\n",
    "martian_year = (combined[\"terrestrial_date\"] > \"2013-8-1\") & (combined[\"terrestrial_date\"] <= \"2015-6-18\")\n",
    "martian_days_in_year = combined.loc[martian_year]\n",
    "\n",
    "# define  2013-08-02 plus 365 days\n",
    "earth_year = (combined[\"terrestrial_date\"] >= \"2013-8-2\") & (combined[\"terrestrial_date\"] <= \"2014-8-1\")\n",
    "earth_days_in_year = combined.loc[earth_year]\n",
    "\n",
    "plt.figure(figsize=(10,5))\n",
    "plt.plot(martian_days_in_year['terrestrial_date'], martian_days_in_year['min_temp'])"
   ]
  },
  {
   "cell_type": "code",
   "execution_count": null,
   "metadata": {},
   "outputs": [],
   "source": [
    "plt.plot(earth_days_in_year['terrestrial_date'], earth_days_in_year['min_temp'])"
   ]
  },
  {
   "cell_type": "code",
   "execution_count": null,
   "metadata": {},
   "outputs": [],
   "source": [
    "print(\"Disclosure: a few days are missing in the terrestrial_days column.\")\n",
    "print(\"An example would be from 2013-08-03 jumps to 2013-08-17\")\n",
    "earth_days_len = len(earth_days_in_year)\n",
    "martian_days_len = len(martian_days_in_year)\n",
    "print(f\"This means that there are a total of {earth_days_len} Earth days in a year.\")\n",
    "print(f\"This also means that there are a total of {martian_days_len} Martian days in a year.\")\n",
    "print()\n",
    "difference = martian_days_len - earth_days_len\n",
    "print(f\"Mars has {difference} days more than Earth.\")"
   ]
  },
  {
   "cell_type": "code",
   "execution_count": null,
   "metadata": {},
   "outputs": [],
   "source": [
    "# Export to CSV.\n",
    "\n",
    "mars_temp_df.to_csv(\"mars_temp.csv\", index=False)"
   ]
  }
 ],
 "metadata": {
  "kernelspec": {
   "display_name": "Python 3 (ipykernel)",
   "language": "python",
   "name": "python3"
  },
  "language_info": {
   "codemirror_mode": {
    "name": "ipython",
    "version": 3
   },
   "file_extension": ".py",
   "mimetype": "text/x-python",
   "name": "python",
   "nbconvert_exporter": "python",
   "pygments_lexer": "ipython3",
   "version": "3.9.13"
  }
 },
 "nbformat": 4,
 "nbformat_minor": 2
}
